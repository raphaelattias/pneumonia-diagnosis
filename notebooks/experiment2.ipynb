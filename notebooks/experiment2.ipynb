{
 "cells": [
  {
   "cell_type": "code",
   "execution_count": null,
   "metadata": {},
   "outputs": [],
   "source": [
    "from src.data.dataloaders import GMC_DataLoader, NIH_DataLoader\n",
    "from src.models.train import train\n",
    "from src.models.evaluate import test\n",
    "from src.models.super_model import SuperModel\n",
    "\n",
    "from torch import optim\n",
    "import torch\n",
    "\n",
    "%load_ext autoreload\n",
    "%autoreload 2\n",
    "\n",
    "device = torch.device('cuda:0' if torch.cuda.is_available() else 'cpu')"
   ]
  },
  {
   "cell_type": "markdown",
   "metadata": {},
   "source": [
    "## Experiment 2\n",
    "\n",
    "This notebook is indented to present the second experiment. The adaptable Model is trained on the GMC and NIH balanced dataset.\n",
    "\n",
    "## Load the Dataset"
   ]
  },
  {
   "cell_type": "code",
   "execution_count": null,
   "metadata": {},
   "outputs": [],
   "source": [
    "train_loader_GMC = GMC_DataLoader(stage='train', batch_size = 5, shuffle=True, balanced = True, num_workers=0, pin_memory=True,limit=500)\n",
    "train_loader_NIH= NIH_DataLoader(stage='train', batch_size = 5, shuffle=True, balanced = True, num_workers=0, pin_memory=True,limit=500)\n",
    "train_loaders = [train_loader_GMC, train_loader_NIH]\n",
    "\n",
    "val_loader_GMC = GMC_DataLoader(stage='train', batch_size = 5, shuffle=True, balanced = True, num_workers=0, pin_memory=True,limit=500)\n",
    "val_loader_NIH= NIH_DataLoader(stage='train', batch_size = 5, shuffle=True, balanced = True, num_workers=0, pin_memory=True,limit=500)\n",
    "val_loaders = [val_loader_GMC, val_loader_NIH]\n",
    "\n",
    "test_loader_GMC = GMC_DataLoader(stage='test', batch_size = 5, shuffle=True, balanced = True, num_workers=0, pin_memory=True,limit=465)\n",
    "test_loader_NIH= NIH_DataLoader(stage='test', batch_size = 5, shuffle=True, balanced = True, num_workers=0, pin_memory=True,limit=465)\n",
    "test_loaders = [test_loader_GMC, test_loader_NIH]\n"
   ]
  },
  {
   "cell_type": "markdown",
   "metadata": {},
   "source": [
    "## Initiate model"
   ]
  },
  {
   "cell_type": "code",
   "execution_count": null,
   "metadata": {},
   "outputs": [],
   "source": [
    "super_model = SuperModel()\n",
    "optimizer = optim.Adam(super_model.parameters(), lr=0.001)\n",
    "criterion = torch.nn.BCELoss()"
   ]
  },
  {
   "cell_type": "markdown",
   "metadata": {},
   "source": [
    "# Training Routine"
   ]
  },
  {
   "cell_type": "code",
   "execution_count": null,
   "metadata": {},
   "outputs": [],
   "source": [
    "n_epochs = 20\n",
    "irm = 0\n",
    "\n",
    "train(super_model, train_loaders, val_loaders, optimizer, criterion, irm, vrex, n_epochs, device, exp2 = True)\n"
   ]
  },
  {
   "cell_type": "markdown",
   "metadata": {},
   "source": [
    "# Testing Routine"
   ]
  },
  {
   "cell_type": "code",
   "execution_count": null,
   "metadata": {},
   "outputs": [],
   "source": [
    "n_epochs = 20\n",
    "irm = 0\n",
    "\n",
    "name_model = f'{super_model.name}_irm_{irm}_ep_{n_epochs}'\n",
    "test(super_model, test_loader_NIH, name_model, device, exp2 = True)"
   ]
  }
 ],
 "metadata": {
  "interpreter": {
   "hash": "b8a2d007b7b23408b211b4ced3506a0a4e1dc10e8fb9c72dd6c142deee8b1017"
  },
  "kernelspec": {
   "display_name": "Python 3.9.7 64-bit ('vi': conda)",
   "language": "python",
   "name": "python3"
  },
  "language_info": {
   "codemirror_mode": {
    "name": "ipython",
    "version": 3
   },
   "file_extension": ".py",
   "mimetype": "text/x-python",
   "name": "python",
   "nbconvert_exporter": "python",
   "pygments_lexer": "ipython3",
   "version": "3.9.7"
  },
  "orig_nbformat": 4
 },
 "nbformat": 4,
 "nbformat_minor": 2
}
