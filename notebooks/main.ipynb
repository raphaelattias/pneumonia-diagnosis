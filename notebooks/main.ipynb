{
 "cells": [
  {
   "cell_type": "code",
   "execution_count": null,
   "source": [
    "# !git clone https://github.com/riccardocadei/pneumoniadiagnosis\n",
    "\n",
    "# import os\n",
    "# os.chdir('/content/pneumoniadiagnosis')\n",
    "\n",
    "# # replace all the 3 instances of './data/images/' in src.data.dataloaders.py by the path on Gdrive, for me it was\n",
    "# # '/content/drive/MyDrive/visual_intelligence/images/'"
   ],
   "outputs": [],
   "metadata": {}
  },
  {
   "cell_type": "code",
   "execution_count": null,
   "source": [
    "from src.data.dataloaders import ENV_DataLoader\n",
    "from src.models.train import train\n",
    "from src.models.evaluate import test\n",
    "from src.models.CheXNet import DenseNet121\n",
    "from src.models.baseline import Baseline\n",
    "from src.models.unet import UNet\n",
    "\n",
    "\n",
    "from torch import optim\n",
    "import torch\n",
    "\n",
    "%load_ext autoreload\n",
    "%autoreload 2\n",
    "\n",
    "device = torch.device('cuda:0' if torch.cuda.is_available() else 'cpu')"
   ],
   "outputs": [],
   "metadata": {}
  },
  {
   "cell_type": "markdown",
   "source": [
    "# Load Dataset"
   ],
   "metadata": {}
  },
  {
   "cell_type": "code",
   "execution_count": null,
   "source": [
    "train_loaders = [ENV_DataLoader(batch_size=4,\n",
    "                                shuffle=True, \n",
    "                                num_workers=0, \n",
    "                                pin_memory=True, \n",
    "                                stage = \"train\", \n",
    "                                type = i+1)\n",
    "                for i in range(2)]\n",
    "\n",
    "val_loaders = [ENV_DataLoader(batch_size=4,\n",
    "                                shuffle=True, \n",
    "                                num_workers=0, \n",
    "                                pin_memory=True, \n",
    "                                stage = \"train\", \n",
    "                                type = i+1)\n",
    "                for i in range(2)]\n",
    "\n",
    "test_loader = ENV_DataLoader(batch_size=4,\n",
    "                            shuffle=True, \n",
    "                            num_workers=0, \n",
    "                            pin_memory=True, \n",
    "                            stage = \"test\")"
   ],
   "outputs": [],
   "metadata": {}
  },
  {
   "cell_type": "markdown",
   "source": [
    "# Baseline CNN"
   ],
   "metadata": {}
  },
  {
   "cell_type": "code",
   "execution_count": null,
   "source": [
    "model = Baseline()\n",
    "optimizer = optim.Adam(model.parameters(), lr=0.002)\n",
    "criterion = torch.nn.BCELoss()"
   ],
   "outputs": [],
   "metadata": {}
  },
  {
   "cell_type": "markdown",
   "source": [
    "## ERM"
   ],
   "metadata": {}
  },
  {
   "cell_type": "code",
   "execution_count": null,
   "source": [
    "n_epochs = 20\n",
    "irm = 0\n",
    "vrex = 0\n",
    "\n",
    "train(model, train_loaders, val_loaders, optimizer, criterion, irm, vrex, n_epochs, device)\n",
    "\n",
    "name_model = f'{model.name}_irm_{irm}_ep_{n_epochs}'\n",
    "test(model, test_loader, name_model, device)"
   ],
   "outputs": [],
   "metadata": {}
  },
  {
   "cell_type": "markdown",
   "source": [
    "## IRM"
   ],
   "metadata": {}
  },
  {
   "cell_type": "code",
   "execution_count": null,
   "source": [
    "n_epochs = 20\n",
    "irm = 3\n",
    "vrex = 0\n",
    "\n",
    "train(model, train_loaders, val_loaders, optimizer, criterion, irm, vrex, n_epochs, device)\n",
    "\n",
    "name_model = f'{model.name}_irm_{irm}_ep_{n_epochs}'\n",
    "test(model, test_loader, name_model, device)"
   ],
   "outputs": [],
   "metadata": {}
  },
  {
   "cell_type": "markdown",
   "source": [
    "## V-REx"
   ],
   "metadata": {}
  },
  {
   "cell_type": "code",
   "execution_count": null,
   "source": [
    "n_epochs = 20\n",
    "irm = 0\n",
    "vrex = 0.1\n",
    "\n",
    "train(model, train_loaders, val_loaders, optimizer, criterion, irm, vrex, n_epochs, device)\n",
    "\n",
    "name_model = f'{model.name}_irm_{irm}_ep_{n_epochs}'\n",
    "test(model, test_loader, name_model, device)"
   ],
   "outputs": [],
   "metadata": {}
  },
  {
   "cell_type": "markdown",
   "source": [
    "# DenseNet121"
   ],
   "metadata": {}
  },
  {
   "cell_type": "code",
   "execution_count": null,
   "source": [
    "model = DenseNet121(out_size=1)\n",
    "optimizer = optim.Adam(model.parameters(), lr=0.002)\n",
    "criterion = torch.nn.BCELoss()"
   ],
   "outputs": [],
   "metadata": {}
  },
  {
   "cell_type": "markdown",
   "source": [
    "## ERM"
   ],
   "metadata": {}
  },
  {
   "cell_type": "code",
   "execution_count": null,
   "source": [
    "n_epochs = 20\n",
    "irm = 0\n",
    "vrex = 0\n",
    "\n",
    "train(model, train_loaders, val_loaders, optimizer, criterion, irm, vrex, n_epochs, device)\n",
    "\n",
    "name_model = f'{model.name}_irm_{irm}_ep_{n_epochs}'\n",
    "test(model, test_loader, name_model, device)"
   ],
   "outputs": [],
   "metadata": {}
  },
  {
   "cell_type": "markdown",
   "source": [
    "## IRM"
   ],
   "metadata": {}
  },
  {
   "cell_type": "code",
   "execution_count": null,
   "source": [
    "n_epochs = 20\n",
    "irm = 3\n",
    "vrex = 0\n",
    "\n",
    "train(model, train_loaders, val_loaders, optimizer, criterion, irm, vrex, n_epochs, device)\n",
    "\n",
    "name_model = f'{model.name}_irm_{irm}_ep_{n_epochs}'\n",
    "test(model, test_loader, name_model, device)"
   ],
   "outputs": [],
   "metadata": {}
  },
  {
   "cell_type": "markdown",
   "source": [
    "## V-REx"
   ],
   "metadata": {}
  },
  {
   "cell_type": "code",
   "execution_count": null,
   "source": [
    "n_epochs = 20\n",
    "irm = 0\n",
    "vrex = 0.1\n",
    "\n",
    "train(model, train_loaders, val_loaders, optimizer, criterion, irm, vrex, n_epochs, device)\n",
    "\n",
    "name_model = f'{model.name}_irm_{irm}_ep_{n_epochs}'\n",
    "test(model, test_loader, name_model, device)"
   ],
   "outputs": [],
   "metadata": {}
  },
  {
   "cell_type": "code",
   "execution_count": null,
   "source": [
    "name_model = f'DenseNet121_irm_0_ep_20.pth'\n",
    "test(model, test_loader, name_model, device)"
   ],
   "outputs": [],
   "metadata": {}
  }
 ],
 "metadata": {
  "interpreter": {
   "hash": "819e4e0650ef848b7b0124f9c5b0d1660490b7b455dd063dd42a651aac4c94db"
  },
  "kernelspec": {
   "name": "python3",
   "display_name": "Python 3.9.5 64-bit ('base': conda)"
  },
  "language_info": {
   "codemirror_mode": {
    "name": "ipython",
    "version": 3
   },
   "file_extension": ".py",
   "mimetype": "text/x-python",
   "name": "python",
   "nbconvert_exporter": "python",
   "pygments_lexer": "ipython3",
   "version": "3.9.5"
  },
  "orig_nbformat": 4
 },
 "nbformat": 4,
 "nbformat_minor": 2
}