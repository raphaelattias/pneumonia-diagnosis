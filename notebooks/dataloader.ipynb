{
 "cells": [
  {
   "cell_type": "code",
   "execution_count": null,
   "metadata": {},
   "outputs": [],
   "source": [
    "from src.data.dataloaders import GMC_DataLoader, NIH_DataLoader, ENV_DataLoader\n",
    "\n",
    "%load_ext autoreload\n",
    "%autoreload 2"
   ]
  },
  {
   "cell_type": "markdown",
   "metadata": {},
   "source": [
    "## DataLoader notebook\n",
    "\n",
    "This notebook is intended to show the multiple environments and datasets studied in this project. In particular we started from the NIH and GMC datasets, which both provide a large amount of labeled Chest-XRays images for pneumonia prediction. "
   ]
  },
  {
   "cell_type": "code",
   "execution_count": null,
   "metadata": {},
   "outputs": [],
   "source": [
    "train_loaders = [ENV_DataLoader(batch_size=4,\n",
    "                                shuffle=True, \n",
    "                                num_workers=0, \n",
    "                                pin_memory=True, \n",
    "                                stage = \"train\", \n",
    "                                type = i+1)\n",
    "                for i in range(2)]\n",
    "\n",
    "\n",
    "test_loader = ENV_DataLoader(batch_size=4,\n",
    "                            shuffle=True, \n",
    "                            num_workers=0, \n",
    "                            pin_memory=True, \n",
    "                            stage = \"test\")"
   ]
  },
  {
   "cell_type": "code",
   "execution_count": null,
   "metadata": {},
   "outputs": [],
   "source": [
    "train_loaders[0].show(iter = 1, type=\"NORMAL\")\n",
    "test_loader.show(iter = 1, type=\"PNEUMONIA\")"
   ]
  }
 ],
 "metadata": {
  "interpreter": {
   "hash": "379e11c007a91c895a8e05076aadb676b012221a6da46e35fb6be69167e42f85"
  },
  "kernelspec": {
   "display_name": "Python 3.9.5 64-bit ('base': conda)",
   "name": "python3"
  },
  "language_info": {
   "codemirror_mode": {
    "name": "ipython",
    "version": 3
   },
   "file_extension": ".py",
   "mimetype": "text/x-python",
   "name": "python",
   "nbconvert_exporter": "python",
   "pygments_lexer": "ipython3",
   "version": "3.9.7"
  },
  "orig_nbformat": 4
 },
 "nbformat": 4,
 "nbformat_minor": 2
}
