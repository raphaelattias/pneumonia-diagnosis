{
 "cells": [
  {
   "cell_type": "code",
   "execution_count": 1,
   "metadata": {},
   "outputs": [],
   "source": [
    "from src.data.dataloaders import GMC_DataLoader, NIH_DataLoader\n",
    "from src.models.train import train, validate\n",
    "from src.models.evaluate import test\n",
    "from src.models.CheXNet import DenseNet121\n",
    "from src.models.baseline import Baseline\n",
    "from src.models.unet import UNet\n",
    "from src.models.style_encoder import ConvEncoder\n",
    "from src.models.super_model import SuperModel\n",
    "from src.models.resnet import get_resnet\n",
    "\n",
    "from torch import optim\n",
    "import torch\n",
    "\n",
    "%load_ext autoreload\n",
    "%autoreload 2\n",
    "\n",
    "device = torch.device('cuda:0' if torch.cuda.is_available() else 'cpu')"
   ]
  },
  {
   "cell_type": "code",
   "execution_count": 2,
   "metadata": {},
   "outputs": [],
   "source": [
    "train_loader_GMC = GMC_DataLoader(stage='train', batch_size = 5, shuffle=True, balanced = True, num_workers=0, pin_memory=True,limit=500)\n",
    "train_loader_NIH= NIH_DataLoader(stage='train', batch_size = 5, shuffle=True, balanced = True, num_workers=0, pin_memory=True,limit=500)\n",
    "train_loaders = [train_loader_GMC, train_loader_NIH]\n",
    "\n",
    "val_loader_GMC = GMC_DataLoader(stage='train', batch_size = 5, shuffle=True, balanced = True, num_workers=0, pin_memory=True,limit=500)\n",
    "val_loader_NIH= NIH_DataLoader(stage='train', batch_size = 5, shuffle=True, balanced = True, num_workers=0, pin_memory=True,limit=500)\n",
    "val_loaders = [val_loader_GMC, val_loader_NIH]\n",
    "\n",
    "test_loader_GMC = GMC_DataLoader(stage='test', batch_size = 5, shuffle=True, balanced = True, num_workers=0, pin_memory=True,limit=465)\n",
    "test_loader_NIH= NIH_DataLoader(stage='test', batch_size = 5, shuffle=True, balanced = True, num_workers=0, pin_memory=True,limit=465)\n",
    "test_loaders = [test_loader_GMC, test_loader_NIH]\n"
   ]
  },
  {
   "cell_type": "markdown",
   "metadata": {},
   "source": []
  },
  {
   "cell_type": "code",
   "execution_count": 3,
   "metadata": {},
   "outputs": [
    {
     "data": {
      "text/plain": [
       "93"
      ]
     },
     "execution_count": 3,
     "metadata": {},
     "output_type": "execute_result"
    }
   ],
   "source": [
    "len(test_loader_GMC)"
   ]
  },
  {
   "cell_type": "code",
   "execution_count": 4,
   "metadata": {},
   "outputs": [],
   "source": [
    "super_model = SuperModel()\n",
    "optimizer = optim.Adam(super_model.parameters(), lr=0.001)\n",
    "criterion = torch.nn.BCELoss()"
   ]
  },
  {
   "cell_type": "code",
   "execution_count": 5,
   "metadata": {},
   "outputs": [
    {
     "name": "stderr",
     "output_type": "stream",
     "text": [
      " 11%|█         | 214/2000 [36:00<3:32:19,  7.13s/it]  "
     ]
    }
   ],
   "source": [
    "n_epochs = 20\n",
    "irm = 0.1\n",
    "vrex = 0\n",
    "\n",
    "train(super_model, train_loaders, val_loaders, optimizer, criterion, irm, vrex, n_epochs, device, exp2 = True)\n"
   ]
  },
  {
   "cell_type": "code",
   "execution_count": 20,
   "metadata": {},
   "outputs": [
    {
     "data": {
      "application/vnd.jupyter.widget-view+json": {
       "model_id": "db58bb92ae7642629001fface4fcf3ff",
       "version_major": 2,
       "version_minor": 0
      },
      "text/plain": [
       "  0%|          | 0/93 [00:00<?, ?it/s]"
      ]
     },
     "metadata": {},
     "output_type": "display_data"
    },
    {
     "name": "stdout",
     "output_type": "stream",
     "text": [
      "Accuracy of the model: 49.46236559139785 %\n"
     ]
    }
   ],
   "source": [
    "from src.data.dataloaders import ENV_DataLoader\n",
    "irm = 0.1\n",
    "vrex = 0\n",
    "n_epochs = 20\n",
    "\n",
    "name_model = f'{super_model.name}_irm_{irm}_ep_{n_epochs}'\n",
    "test(super_model, test_loader_NIH, name_model, device, exp2 = True)"
   ]
  },
  {
   "cell_type": "code",
   "execution_count": null,
   "metadata": {},
   "outputs": [],
   "source": [
    "val_loader_NIH.show()"
   ]
  },
  {
   "cell_type": "code",
   "execution_count": 17,
   "metadata": {},
   "outputs": [],
   "source": [
    "import random\n",
    "lines = open(r'data/labels/NIH/balanced_output_test.txt').readlines()\n",
    "random.shuffle(lines)\n",
    "open(r'data/labels/NIH/balanced_output_test.txt', 'w').writelines(lines)"
   ]
  },
  {
   "cell_type": "code",
   "execution_count": 160,
   "metadata": {},
   "outputs": [],
   "source": [
    "import random\n",
    "with open(r'data/labels/NIH/output_test.txt','r') as source:\n",
    "    num_zero = 0\n",
    "    num_one = 0\n",
    "    for line in source:\n",
    "        label = line.split(' ')[-1][0]\n",
    "        if label == '0':\n",
    "            num_zero += 1\n",
    "        elif label == '1':\n",
    "            num_one += 1\n",
    "    num_sample = min(num_zero,num_one)\n",
    "\n",
    "with open(r'data/labels/NIH/output_test.txt','r') as source:\n",
    "    num_zero = 0\n",
    "    num_one = 0\n",
    "    lines = []\n",
    "    for line in source:\n",
    "        label = line.split(' ')[-1][0]\n",
    "        if (label == '0') and (num_zero < num_sample):\n",
    "            lines.append(line)\n",
    "            num_zero += 1\n",
    "        elif (label == '1') and (num_one < num_sample):\n",
    "            lines.append(line)\n",
    "            num_one += 1\n",
    "\n",
    "open(r'data/labels/NIH/balanced_output_test.txt', 'w').writelines(lines)\n",
    "\n",
    "        "
   ]
  },
  {
   "cell_type": "code",
   "execution_count": 106,
   "metadata": {},
   "outputs": [
    {
     "data": {
      "text/plain": [
       "234"
      ]
     },
     "execution_count": 106,
     "metadata": {},
     "output_type": "execute_result"
    }
   ],
   "source": [
    "num_one"
   ]
  },
  {
   "cell_type": "code",
   "execution_count": null,
   "metadata": {},
   "outputs": [],
   "source": []
  }
 ],
 "metadata": {
  "interpreter": {
   "hash": "b8a2d007b7b23408b211b4ced3506a0a4e1dc10e8fb9c72dd6c142deee8b1017"
  },
  "kernelspec": {
   "display_name": "Python 3.9.7 64-bit ('vi': conda)",
   "language": "python",
   "name": "python3"
  },
  "language_info": {
   "codemirror_mode": {
    "name": "ipython",
    "version": 3
   },
   "file_extension": ".py",
   "mimetype": "text/x-python",
   "name": "python",
   "nbconvert_exporter": "python",
   "pygments_lexer": "ipython3",
   "version": "3.9.7"
  },
  "orig_nbformat": 4
 },
 "nbformat": 4,
 "nbformat_minor": 2
}
