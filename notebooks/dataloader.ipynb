{
 "cells": [
  {
   "cell_type": "code",
   "execution_count": null,
   "metadata": {},
   "outputs": [],
   "source": [
    "from src.data.dataloaders import GMC_DataLoader, NIH_DataLoader, ENV_DataLoader\n",
    "%load_ext autoreload\n",
    "%autoreload 2"
   ]
  },
  {
   "cell_type": "code",
   "execution_count": null,
   "metadata": {},
   "outputs": [],
   "source": [
    "gmc_dataloader = GMC_DataLoader(batch_size=4,\n",
    "                                shuffle=True, num_workers=0, pin_memory=True, stage = \"train\")\n",
    "\n",
    "nih_dataloader = NIH_DataLoader(batch_size=4,\n",
    "                                shuffle=True, num_workers=0, pin_memory=True, stage = \"test\")\n",
    "\n",
    "env1_dataloader = ENV_DataLoader(batch_size=4,\n",
    "                                shuffle=True, num_workers=0, pin_memory=True, stage = \"train\", type = 1)\n",
    "\n",
    "env2_dataloader = ENV_DataLoader(batch_size=4,\n",
    "                                shuffle=True, num_workers=0, pin_memory=True, stage = \"train\", type = 2)\n",
    "\n",
    "envTest_dataloader = ENV_DataLoader(batch_size=4,\n",
    "                                shuffle=True, num_workers=0, pin_memory=True, stage = \"test\")\n"
   ]
  },
  {
   "cell_type": "markdown",
   "metadata": {},
   "source": [
    "### NIH \n",
    "Normal / Pneumonia\n",
    "* Train : 50500 / 876\n",
    "* Test : 9861 / 555\n",
    "\n",
    "### GMC\n",
    "* Train : 1341 / 3875\n",
    "* Test : 234 / 390\n"
   ]
  },
  {
   "cell_type": "markdown",
   "metadata": {},
   "source": [
    "## ENV1\n",
    "PNEUMONIA = 90% NIH + 10% GMC = 876 NIH + 97 GMC = 973\n",
    "\n",
    "NOT PNEUMONIA = 876 NIH + 97 GMC = 973\n",
    "\n",
    "Total = 1946\n",
    "\n",
    "## ENV2 \n",
    "PNEUMONIA = 80% NIH + 20% GMC = 778 NIH + 195 GMC = 973\n",
    "\n",
    "NOT PNEUMONIA =  778 NIH + 195 GMC\n",
    "\n",
    "Total = 1946\n",
    "\n",
    "## TEST_ENV\n",
    "PNEUMONIA = 10% NIH + 90% GMC = 23 NIH + 234 GMC \n",
    "\n",
    "NOT PNEUMONIA = 23 NIH + 234 GMC\n",
    "\n",
    "Total = 514"
   ]
  },
  {
   "cell_type": "code",
   "execution_count": null,
   "metadata": {},
   "outputs": [],
   "source": [
    "gmc_dataloader.show(iter = 1, type=\"NORMAL\")\n",
    "nih_dataloader.show(iter = 1, type=\"NORMAL\")\n",
    "env1_dataloader.show(iter = 1, type=\"NORMAL\")"
   ]
  }
 ],
 "metadata": {
  "interpreter": {
   "hash": "ec0d4ce16d187a24196018fed335f6312054a84ea12a577930b641b27372ba48"
  },
  "kernelspec": {
   "display_name": "Python 3.9.7 64-bit ('vi': conda)",
   "name": "python3"
  },
  "language_info": {
   "codemirror_mode": {
    "name": "ipython",
    "version": 3
   },
   "file_extension": ".py",
   "mimetype": "text/x-python",
   "name": "python",
   "nbconvert_exporter": "python",
   "pygments_lexer": "ipython3",
   "version": "3.9.7"
  },
  "orig_nbformat": 4
 },
 "nbformat": 4,
 "nbformat_minor": 2
}
