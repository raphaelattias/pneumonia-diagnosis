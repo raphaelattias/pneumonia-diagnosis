{
 "cells": [
  {
   "cell_type": "code",
   "execution_count": null,
   "metadata": {},
   "outputs": [],
   "source": [
    "from src.data.dataloaders import GMC_DataLoader, NIH_DataLoader, ENV_DataLoader\n",
    "\n",
    "%load_ext autoreload\n",
    "%autoreload 2"
   ]
  },
  {
   "cell_type": "code",
   "execution_count": null,
   "metadata": {},
   "outputs": [],
   "source": [
    "train_loaders = [ENV_DataLoader(batch_size=4,\n",
    "                                shuffle=True, \n",
    "                                num_workers=0, \n",
    "                                pin_memory=True, \n",
    "                                stage = \"train\", \n",
    "                                type = i+1)\n",
    "                for i in range(2)]\n",
    "\n",
    "\n",
    "test_loader = ENV_DataLoader(batch_size=4,\n",
    "                            shuffle=True, \n",
    "                            num_workers=0, \n",
    "                            pin_memory=True, \n",
    "                            stage = \"test\")"
   ]
  },
  {
   "cell_type": "markdown",
   "metadata": {},
   "source": [
    "### NIH \n",
    "Normal / Pneumonia\n",
    "* Train : 50500 / 876\n",
    "* Test : 9861 / 555\n",
    "\n",
    "### GMC\n",
    "* Train : 1341 / 3875\n",
    "* Test : 234 / 390\n"
   ]
  },
  {
   "cell_type": "markdown",
   "metadata": {},
   "source": [
    "## ENV1\n",
    "PNEUMONIA = 90% NIH + 10% GMC = 876 NIH + 97 GMC = 973\n",
    "\n",
    "NOT PNEUMONIA = 876 NIH + 97 GMC = 973\n",
    "\n",
    "Total = 1946\n",
    "\n",
    "## ENV2 \n",
    "PNEUMONIA = 80% NIH + 20% GMC = 778 NIH + 195 GMC = 973\n",
    "\n",
    "NOT PNEUMONIA =  778 NIH + 195 GMC\n",
    "\n",
    "Total = 1946\n",
    "\n",
    "## TEST_ENV\n",
    "PNEUMONIA = 10% NIH + 90% GMC = 23 NIH + 234 GMC \n",
    "\n",
    "NOT PNEUMONIA = 23 NIH + 234 GMC\n",
    "\n",
    "Total = 514"
   ]
  },
  {
   "cell_type": "code",
   "execution_count": null,
   "metadata": {},
   "outputs": [],
   "source": [
    "train_loaders[0].show(iter = 1, type=\"NORMAL\")\n",
    "test_loader.show(iter = 1, type=\"PNEUMONIA\")"
   ]
  },
  {
   "cell_type": "code",
   "execution_count": null,
   "metadata": {},
   "outputs": [],
   "source": []
  }
 ],
 "metadata": {
  "interpreter": {
   "hash": "379e11c007a91c895a8e05076aadb676b012221a6da46e35fb6be69167e42f85"
  },
  "kernelspec": {
   "display_name": "Python 3.9.5 64-bit ('base': conda)",
   "name": "python3"
  },
  "language_info": {
   "codemirror_mode": {
    "name": "ipython",
    "version": 3
   },
   "file_extension": ".py",
   "mimetype": "text/x-python",
   "name": "python",
   "nbconvert_exporter": "python",
   "pygments_lexer": "ipython3",
   "version": "3.7.10"
  },
  "orig_nbformat": 4
 },
 "nbformat": 4,
 "nbformat_minor": 2
}
