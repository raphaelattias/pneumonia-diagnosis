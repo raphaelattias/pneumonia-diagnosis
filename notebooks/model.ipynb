{
 "cells": [
  {
   "cell_type": "code",
   "execution_count": 5,
   "metadata": {},
   "outputs": [
    {
     "name": "stdout",
     "output_type": "stream",
     "text": [
      "The autoreload extension is already loaded. To reload it, use:\n",
      "  %reload_ext autoreload\n"
     ]
    }
   ],
   "source": [
    "from src.models.CheXNet import DenseNet121\n",
    "from src.data.dataloaders import GMC_DataLoader\n",
    "import torch\n",
    "%load_ext autoreload\n",
    "%autoreload 2"
   ]
  },
  {
   "cell_type": "code",
   "execution_count": 9,
   "metadata": {},
   "outputs": [],
   "source": [
    "model = DenseNet121(out_size=(1))\n",
    "gmc_dataloader = GMC_DataLoader(batch_size=4,\n",
    "                                shuffle=True, num_workers=0, pin_memory=True, stage = \"train\")\n",
    "\n",
    "criterion = torch.nn.BCELoss()\n",
    "\n",
    "for i, (inp, target) in enumerate(gmc_dataloader):\n",
    "    if i == 1:\n",
    "        break\n",
    "    output = model(inp)\n",
    "    pred = output\n",
    "    loss = criterion(torch.round(output),target)\n",
    "    loss.backward()"
   ]
  }
 ],
 "metadata": {
  "interpreter": {
   "hash": "b9505444bcc7350c19e9bb4656233626deccf307fd91474282679e987ba5d8ff"
  },
  "kernelspec": {
   "display_name": "Python 3.7.12 64-bit ('dcliques': conda)",
   "name": "python3"
  },
  "language_info": {
   "codemirror_mode": {
    "name": "ipython",
    "version": 3
   },
   "file_extension": ".py",
   "mimetype": "text/x-python",
   "name": "python",
   "nbconvert_exporter": "python",
   "pygments_lexer": "ipython3",
   "version": "3.7.12"
  },
  "orig_nbformat": 4
 },
 "nbformat": 4,
 "nbformat_minor": 2
}
