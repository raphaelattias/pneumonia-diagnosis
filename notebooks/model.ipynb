{
 "cells": [
  {
   "cell_type": "code",
   "execution_count": null,
   "metadata": {},
   "outputs": [],
   "source": [
    "from src.models.unet import UNet\n",
    "from src.models.baseline import Baseline\n",
    "from src.models.CheXNet import DenseNet121\n",
    "from src.data.dataloaders import ENV_DataLoader\n",
    "import torch\n",
    "%load_ext autoreload\n",
    "%autoreload 2"
   ]
  },
  {
   "cell_type": "code",
   "execution_count": null,
   "metadata": {},
   "outputs": [],
   "source": [
    "#model = DenseNet121(out_size=(1))\n",
    "model = Baseline()\n",
    "gmc_dataloader = ENV_DataLoader(batch_size=4,\n",
    "                            shuffle=True, \n",
    "                            num_workers=0, \n",
    "                            pin_memory=True, \n",
    "                            stage = \"test\")\n",
    "\n",
    "criterion = torch.nn.BCELoss()\n",
    "\n",
    "for i, (inp, target) in enumerate(gmc_dataloader):\n",
    "    if i == 1:\n",
    "        break\n",
    "    output = model(inp)\n",
    "    pred = output\n",
    "    loss = criterion(torch.round(output),target)\n",
    "    loss.backward()\n",
    "    print(output,target)"
   ]
  },
  {
   "cell_type": "code",
   "execution_count": null,
   "metadata": {},
   "outputs": [],
   "source": []
  }
 ],
 "metadata": {
  "interpreter": {
   "hash": "dcb7830006b623853a3f3670e783d9502493fc237fab548f10c5dac87063c7a2"
  },
  "kernelspec": {
   "display_name": "R",
   "language": "python",
   "name": "python3"
  },
  "language_info": {
   "codemirror_mode": {
    "name": "ipython",
    "version": 3
   },
   "file_extension": ".py",
   "mimetype": "text/x-python",
   "name": "python",
   "nbconvert_exporter": "python",
   "pygments_lexer": "ipython3",
   "version": "3.9.7"
  },
  "orig_nbformat": 4
 },
 "nbformat": 4,
 "nbformat_minor": 2
}
