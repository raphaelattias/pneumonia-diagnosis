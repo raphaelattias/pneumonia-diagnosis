{
 "cells": [
  {
   "cell_type": "code",
   "execution_count": 1,
   "metadata": {},
   "outputs": [],
   "source": [
    "from src.data.dataloaders import GMC_DataLoader, NIH_DataLoader\n",
    "from src.models.train import train\n",
    "from src.models.evaluate import test\n",
    "from src.models.CheXNet import DenseNet121\n",
    "from src.models.baseline import Baseline\n",
    "from src.models.unet import UNet\n",
    "from src.models.style_encoder import ConvEncoder\n",
    "from src.models.super_model import SuperModel\n",
    "from src.models.resnet import get_resnet\n",
    "\n",
    "from torch import optim\n",
    "import torch\n",
    "\n",
    "%load_ext autoreload\n",
    "%autoreload 2\n",
    "\n",
    "device = torch.device('cuda:0' if torch.cuda.is_available() else 'cpu')"
   ]
  },
  {
   "cell_type": "code",
   "execution_count": 2,
   "metadata": {},
   "outputs": [],
   "source": [
    "train_loader_GMC = GMC_DataLoader(stage='train', batch_size = 4, shuffle=True, num_workers=0, pin_memory=True,)\n",
    "train_loader_NIH= NIH_DataLoader(stage='train', batch_size = 4, shuffle=True, num_workers=0, pin_memory=True,)\n",
    "train_loaders = [train_loader_GMC, train_loader_NIH]\n",
    "\n",
    "test_loader_GMC = GMC_DataLoader(stage='test', batch_size = 4, shuffle=True, num_workers=0, pin_memory=True,)\n",
    "test_loader_NIH= NIH_DataLoader(stage='test', batch_size = 4, shuffle=True, num_workers=0, pin_memory=True,)\n",
    "test_loaders = [test_loader_GMC, test_loader_NIH]\n"
   ]
  },
  {
   "cell_type": "code",
   "execution_count": 3,
   "metadata": {},
   "outputs": [],
   "source": [
    "super_model = SuperModel()\n",
    "optimizer = optim.Adam(super_model.parameters(), lr=0.002)\n",
    "criterion = torch.nn.BCELoss()"
   ]
  },
  {
   "cell_type": "code",
   "execution_count": 4,
   "metadata": {},
   "outputs": [
    {
     "name": "stderr",
     "output_type": "stream",
     "text": [
      "  0%|          | 10/26080 [01:20<62:18:10,  8.60s/it]"
     ]
    }
   ],
   "source": [
    "n_epochs = 20\n",
    "irm = 0\n",
    "vrex = 0\n",
    "\n",
    "train(super_model, train_loaders, test_loaders, optimizer, criterion, irm, vrex, n_epochs, device, exp2 = True)"
   ]
  },
  {
   "cell_type": "code",
   "execution_count": null,
   "metadata": {},
   "outputs": [
    {
     "name": "stdout",
     "output_type": "stream",
     "text": [
      "torch.Size([4, 3, 224, 224]) torch.Size([4, 1])\n",
      "torch.Size([4, 3, 224, 224]) torch.Size([4, 1])\n",
      "torch.Size([4, 3, 224, 224]) torch.Size([4, 1])\n",
      "torch.Size([4, 3, 224, 224]) torch.Size([4, 1])\n",
      "torch.Size([4, 3, 224, 224]) torch.Size([4, 1])\n",
      "torch.Size([4, 3, 224, 224]) torch.Size([4, 1])\n"
     ]
    }
   ],
   "source": [
    "for i, (batch_x, batch_y) in enumerate(train_loader_GMC):\n",
    "    print(batch_x.shape, batch_y.shape)\n",
    "\n",
    "    pred = super_model(batch_x)\n",
    "\n",
    "    if i == 5:\n",
    "        break"
   ]
  },
  {
   "cell_type": "code",
   "execution_count": null,
   "metadata": {},
   "outputs": [],
   "source": []
  }
 ],
 "metadata": {
  "interpreter": {
   "hash": "b8a2d007b7b23408b211b4ced3506a0a4e1dc10e8fb9c72dd6c142deee8b1017"
  },
  "kernelspec": {
   "display_name": "Python 3.9.7 64-bit ('vi': conda)",
   "language": "python",
   "name": "python3"
  },
  "language_info": {
   "codemirror_mode": {
    "name": "ipython",
    "version": 3
   },
   "file_extension": ".py",
   "mimetype": "text/x-python",
   "name": "python",
   "nbconvert_exporter": "python",
   "pygments_lexer": "ipython3",
   "version": "3.9.7"
  },
  "orig_nbformat": 4
 },
 "nbformat": 4,
 "nbformat_minor": 2
}
