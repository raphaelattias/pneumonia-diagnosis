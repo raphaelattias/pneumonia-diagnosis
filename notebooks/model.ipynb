{
 "cells": [
  {
   "cell_type": "code",
   "execution_count": null,
   "metadata": {},
   "outputs": [],
   "source": [
    "from src.models.CheXNet import DenseNet121\n",
    "from src.data.dataloaders import GMC_DataLoader\n",
    "import torch\n",
    "%load_ext autoreload\n",
    "%autoreload 2"
   ]
  },
  {
   "cell_type": "code",
   "execution_count": 4,
   "metadata": {},
   "outputs": [],
   "source": [
    "model = DenseNet121(out_size=(1))\n",
    "gmc_dataloader = GMC_DataLoader(batch_size=4,\n",
    "                                shuffle=True, num_workers=0, pin_memory=True, stage = \"train\")\n",
    "\n",
    "criterion = torch.nn.BCELoss()\n",
    "\n",
    "for i, (inp, target) in enumerate(gmc_dataloader):\n",
    "    if i == 1:\n",
    "        break\n",
    "    output = model(inp)\n",
    "    pred = output\n",
    "    loss = criterion(torch.round(output),target)\n",
    "    loss.backward()"
   ]
  }
 ],
 "metadata": {
  "interpreter": {
   "hash": "379e11c007a91c895a8e05076aadb676b012221a6da46e35fb6be69167e42f85"
  },
  "kernelspec": {
   "display_name": "Python 3.9.5 64-bit ('base': conda)",
   "name": "python3"
  },
  "language_info": {
   "codemirror_mode": {
    "name": "ipython",
    "version": 3
   },
   "file_extension": ".py",
   "mimetype": "text/x-python",
   "name": "python",
   "nbconvert_exporter": "python",
   "pygments_lexer": "ipython3",
   "version": "3.9.5"
  },
  "orig_nbformat": 4
 },
 "nbformat": 4,
 "nbformat_minor": 2
}
