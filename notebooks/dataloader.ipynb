{
 "cells": [
  {
   "cell_type": "code",
   "execution_count": null,
   "source": [
    "from src.data.dataloaders import GMC_DataLoader, NIH_DataLoader, ENV_DataLoader\n",
    "\n",
    "%load_ext autoreload\n",
    "%autoreload 2"
   ],
   "outputs": [],
   "metadata": {}
  },
  {
   "cell_type": "code",
   "execution_count": null,
   "source": [
    "train_loaders = [ENV_DataLoader(batch_size=4,\n",
    "                                shuffle=True, \n",
    "                                num_workers=0, \n",
    "                                pin_memory=True, \n",
    "                                stage = \"train\", \n",
    "                                type = i+1)\n",
    "                for i in range(2)]\n",
    "\n",
    "\n",
    "test_loader = ENV_DataLoader(batch_size=4,\n",
    "                            shuffle=True, \n",
    "                            num_workers=0, \n",
    "                            pin_memory=True, \n",
    "                            stage = \"test\")"
   ],
   "outputs": [],
   "metadata": {}
  },
  {
   "cell_type": "markdown",
   "source": [
    "### NIH \n",
    "Normal / Pneumonia\n",
    "* Train : 50500 / 876\n",
    "* Test : 9861 / 555\n",
    "\n",
    "### GMC\n",
    "* Train : 1341 / 3875\n",
    "* Test : 234 / 390\n"
   ],
   "metadata": {}
  },
  {
   "cell_type": "markdown",
   "source": [
    "## ENV1\n",
    "PNEUMONIA = 90% NIH + 10% GMC = 876 NIH + 97 GMC = 973\n",
    "\n",
    "NOT PNEUMONIA = 876 NIH + 97 GMC = 973\n",
    "\n",
    "Total = 1946\n",
    "\n",
    "## ENV2 \n",
    "PNEUMONIA = 80% NIH + 20% GMC = 778 NIH + 195 GMC = 973\n",
    "\n",
    "NOT PNEUMONIA =  778 NIH + 195 GMC\n",
    "\n",
    "Total = 1946\n",
    "\n",
    "## TEST_ENV\n",
    "PNEUMONIA = 10% NIH + 90% GMC = 23 NIH + 234 GMC \n",
    "\n",
    "NOT PNEUMONIA = 23 NIH + 234 GMC\n",
    "\n",
    "Total = 514"
   ],
   "metadata": {}
  },
  {
   "cell_type": "code",
   "execution_count": null,
   "source": [
    "gmc_dataloader.show(iter = 1, type=\"NORMAL\");\n",
    "nih_dataloader.show(iter = 1, type=\"PNEUMONIA\");"
   ],
   "outputs": [],
   "metadata": {}
  }
 ],
 "metadata": {
  "interpreter": {
   "hash": "819e4e0650ef848b7b0124f9c5b0d1660490b7b455dd063dd42a651aac4c94db"
  },
  "kernelspec": {
   "name": "python3",
   "display_name": "Python 3.9.5 64-bit ('base': conda)"
  },
  "language_info": {
   "codemirror_mode": {
    "name": "ipython",
    "version": 3
   },
   "file_extension": ".py",
   "mimetype": "text/x-python",
   "name": "python",
   "nbconvert_exporter": "python",
   "pygments_lexer": "ipython3",
   "version": "3.9.5"
  },
  "orig_nbformat": 4
 },
 "nbformat": 4,
 "nbformat_minor": 2
}